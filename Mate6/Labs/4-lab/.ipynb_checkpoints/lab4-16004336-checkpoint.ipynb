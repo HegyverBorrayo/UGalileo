{
 "cells": [
  {
   "cell_type": "code",
   "execution_count": 19,
   "metadata": {},
   "outputs": [
    {
     "name": "stdout",
     "output_type": "stream",
     "text": [
      "|  pn_2  |  pn_1  |  p_n    |  error    |\n",
      "|  -0.8  |  -0.3  |  -0.41  |    0.11   |   \n",
      "|  -0.3  |  -0.41  |  -0.42  |    0.01   |   \n"
     ]
    }
   ],
   "source": [
    "#problema 1\n",
    "import numpy as np\n",
    "def f(x):\n",
    "    return (-12)-(21*x)+(18*x**2)-(2.4*x**3)\n",
    "\n",
    "def print_values(pn_2, pn_1, p_n, error):\n",
    "    return '|  '+str(round(pn_2, 2))+'  |  '+str(round(pn_1, 2))+'  |  '+str(round(p_n, 2))+'  |    '+str(round(error, 2))+'   |   '\n",
    "\n",
    "#definicion de valores\n",
    "error_final = 0.01\n",
    "\n",
    "pn_2 = -0.5\n",
    "pn_1 = -0.3\n",
    "\n",
    "num = f(pn_1) * (pn_1 - pn_2)\n",
    "\n",
    "p_n = pn_1 - ( num / ( f(pn_1) - f(pn_2) ) )\n",
    "\n",
    "error = abs(p_n - pn_1)\n",
    "\n",
    "print('|  pn_2  |  pn_1  |  p_n    |  error    |')\n",
    "print(print_values(num, pn_1, p_n, error))\n",
    "\n",
    "while error > error_final:\n",
    "    pn_2 = pn_1\n",
    "    pn_1 = p_n\n",
    "    num = f(pn_1) * (pn_1 - pn_2)\n",
    "    p_n = pn_1 - ( num / ( f(pn_1) - f(pn_2) ) )\n",
    "    error = abs(p_n - pn_1)\n",
    "    print(print_values(pn_2, pn_1, p_n, error))"
   ]
  },
  {
   "cell_type": "code",
   "execution_count": 33,
   "metadata": {},
   "outputs": [
    {
     "name": "stdout",
     "output_type": "stream",
     "text": [
      "|  pn_1  |  p_n    |  error    |\n",
      "|  0.65  |  -0.42  |    0.07   |   \n",
      "|  0.72  |  -0.42  |    0.03   |   \n",
      "|  0.75  |  -0.42  |    0.01   |   \n",
      "|  0.76  |  -0.42  |    0.0   |   \n"
     ]
    }
   ],
   "source": [
    "#Problema 2\n",
    "import numpy as np\n",
    "import math\n",
    "\n",
    "def f(x):\n",
    "    return math.sin(x**(1/2))\n",
    "\n",
    "def print_values(pn_1, p_n, error):\n",
    "    return '|  '+str(round(pn_1, 2))+'  |  '+str(round(p_n, 2))+'  |    '+str(round(error, 2))+'   |   '\n",
    "\n",
    "pn_1 = 0.5\n",
    "pn = f(pn_1)\n",
    "error = abs(pn - pn_1)\n",
    "error_final = 0.01\n",
    "\n",
    "print('|  pn_1  |  p_n    |  error    |')\n",
    "\n",
    "error_temporal = error\n",
    "\n",
    "while error_final <= error:\n",
    "    pn_2 = pn_1\n",
    "    pn_1 = pn\n",
    "    pn = f(pn_2)\n",
    "    error = abs(pn - pn_2)\n",
    "    if error != error_temporal :\n",
    "        print(print_values(pn_1, p_n, error))\n",
    "        \n",
    "    error_temporal = error\n",
    "\n",
    "    \n",
    "#Defini una variable error_temporal para que no muestre el mismo value\n"
   ]
  },
  {
   "cell_type": "code",
   "execution_count": null,
   "metadata": {},
   "outputs": [],
   "source": []
  }
 ],
 "metadata": {
  "kernelspec": {
   "display_name": "Python 3",
   "language": "python",
   "name": "python3"
  },
  "language_info": {
   "codemirror_mode": {
    "name": "ipython",
    "version": 3
   },
   "file_extension": ".py",
   "mimetype": "text/x-python",
   "name": "python",
   "nbconvert_exporter": "python",
   "pygments_lexer": "ipython3",
   "version": "3.6.9"
  }
 },
 "nbformat": 4,
 "nbformat_minor": 2
}
