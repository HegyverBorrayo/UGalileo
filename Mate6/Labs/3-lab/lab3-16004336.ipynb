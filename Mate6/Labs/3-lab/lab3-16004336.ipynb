{
 "cells": [
  {
   "cell_type": "code",
   "execution_count": 4,
   "metadata": {},
   "outputs": [
    {
     "name": "stdout",
     "output_type": "stream",
     "text": [
      "|  a  |  b  |  p  |  f(a)  | f(b)  |  f(p)  |  error\n",
      "|  +  |  +  |  +  |    +   |   -   |   -    |  1\n"
     ]
    }
   ],
   "source": [
    "#EJERCICIO 1\n",
    "import numpy as np\n",
    "\n",
    "#funcion que vamos a evaluar (ya despejada)\n",
    "def f(x):\n",
    "    return x**3 -3.23*x**2 -5.34*x+9.84\n",
    "    #return x**3-np.sin(x);\n",
    "    #return x**2-np.cos(x)-1;\n",
    "\n",
    "def print_values(a, b, p, f_a, f_b, f_p, error):\n",
    "    return '|  '+(\"+\" if a >= 0 else \"-\")+'  |  '+(\"+\" if b >= 0 else \"-\")+'  |  '+(\"+\" if p >= 0 else \"-\")+'  |    '+(\"+\" if f_a >= 0 else \"-\")+'   |   '+(\"+\" if f_b >= 0 else \"-\")+'   |   '+(\"+\" if f_p >= 0 else \"-\")+'    |  '+str(error)\n",
    "\n",
    "\n",
    "#definición de valor iniciales\n",
    "a = 1\n",
    "#a = 1\n",
    "b = 2\n",
    "#b = 2\n",
    "p = (a+b)/2\n",
    "f_a = f(a)\n",
    "f_b = f(b)\n",
    "f_p = f(p)\n",
    "\n",
    "\n",
    "#definicion de errores\n",
    "error_final = 0.01\n",
    "#error_final = 0.25\n",
    "error_item = (b-a)\n",
    "\n",
    "print('|  a  |  b  |  p  |  f(a)  | f(b)  |  f(p)  |  error')\n",
    "print(print_values(a, b, p, f_a, f_b, f_p, error_item))\n",
    "while error_item > error_final:\n",
    "    if f_a < 0 and f_p < 0:\n",
    "        a = p\n",
    "        b = b\n",
    "        p = (a+b)/2\n",
    "        f_a = f(a)\n",
    "        f_b = f(b)\n",
    "        f_p = f(p)\n",
    "        error_item = (b-a)\n",
    "        print(print_values(a, b, p, f_a, f_b, f_p, error_item))\n",
    "    elif f_a < 0 and f_p >= 0:\n",
    "        a = a\n",
    "        b = p\n",
    "        p = (a+b)/2\n",
    "        f_a = f(a)\n",
    "        f_b = f(b)\n",
    "        f_p = f(p)\n",
    "        error_item = (b-a)\n",
    "        print(print_values(a, b, p, f_a, f_b, f_p, error_item))\n",
    "    else:\n",
    "        break"
   ]
  },
  {
   "cell_type": "code",
   "execution_count": 2,
   "metadata": {},
   "outputs": [
    {
     "name": "stdout",
     "output_type": "stream",
     "text": [
      "|  +  |  +  |  +  |    -   |   +   |   -    |  1.5\n",
      "|  +  |  +  |  +  |    -   |   +   |   -    |  0.9824561403508776\n",
      "|  +  |  +  |  +  |    -   |   +   |   -    |  0.8594907570089578\n",
      "|  +  |  +  |  +  |    -   |   +   |   -    |  0.745989903653463\n",
      "|  +  |  +  |  +  |    -   |   +   |   -    |  0.6429542407622657\n"
     ]
    }
   ],
   "source": [
    "#Ejercicio 2\n",
    "import numpy as np\n",
    "\n",
    "#funcion que vamos a evaluar (ya despejada)\n",
    "def f(x):\n",
    "    return x**4 - 8*(x**3) - 35*(x**2) + 450*(x) - 1001\n",
    "    #return x-np.cos(x);\n",
    "\n",
    "\n",
    "def print_values(a, b, p, f_a, f_b, f_p, error):\n",
    "    return '|  '+(\"+\" if a >= 0 else \"-\")+'  |  '+(\"+\" if b >= 0 else \"-\")+'  |  '+(\"+\" if p >= 0 else \"-\")+'  |    '+(\"+\" if f_a >= 0 else \"-\")+'   |   '+(\"+\" if f_b >= 0 else \"-\")+'   |   '+(\"+\" if f_p >= 0 else \"-\")+'    |  '+str(error)\n",
    "\n",
    "#definición de valor iniciales\n",
    "a = 4.5\n",
    "#a = 0\n",
    "#b = 1\n",
    "b = 6\n",
    "f_a = f(a)\n",
    "f_b = f(b)\n",
    "p = a - ((b-a)/(f_b-f_a)) * f(a)\n",
    "f_p = f(p)\n",
    "error_item = (b-a)\n",
    "print(print_values(a, b, p, f_a, f_b, f_p, error_item))\n",
    "\n",
    "#definicion de errores\n",
    "numero_iteraciones = 5\n",
    "num_iteraciones = 1\n",
    "\n",
    "while numero_iteraciones > num_iteraciones:\n",
    "    if f_a*f_p > 0:\n",
    "        a=p\n",
    "        b=b\n",
    "        f_a = f(a)\n",
    "        f_b = f(b)\n",
    "        p = a - ((b-a)/(f_b-f_a)) * f(a)\n",
    "        f_p = f(p)\n",
    "        error_item = (b-a)\n",
    "        print(print_values(a, b, p, f_a, f_b, f_p, error_item))\n",
    "    else:\n",
    "        a=a\n",
    "        b=p\n",
    "        f_a = f(a)\n",
    "        f_b = f(b)\n",
    "        p = a - ((b-a)/(f_b-f_a)) * f(a)\n",
    "        f_p = f(p)\n",
    "        error_item = (b-a)\n",
    "        print(print_values(a, b, p, f_a, f_b, f_p, error_item))\n",
    "    num_iteraciones += 1\n"
   ]
  },
  {
   "cell_type": "code",
   "execution_count": 105,
   "metadata": {},
   "outputs": [
    {
     "ename": "NameError",
     "evalue": "name 'e' is not defined",
     "output_type": "error",
     "traceback": [
      "\u001b[0;31m---------------------------------------------------------------------------\u001b[0m",
      "\u001b[0;31mNameError\u001b[0m                                 Traceback (most recent call last)",
      "\u001b[0;32m<ipython-input-105-f927b294459c>\u001b[0m in \u001b[0;36m<module>\u001b[0;34m()\u001b[0m\n\u001b[1;32m     11\u001b[0m \u001b[0;34m\u001b[0m\u001b[0m\n\u001b[1;32m     12\u001b[0m \u001b[0ma\u001b[0m \u001b[0;34m=\u001b[0m \u001b[0;36m0.5\u001b[0m\u001b[0;34m\u001b[0m\u001b[0;34m\u001b[0m\u001b[0m\n\u001b[0;32m---> 13\u001b[0;31m \u001b[0mf_a\u001b[0m \u001b[0;34m=\u001b[0m \u001b[0mf\u001b[0m\u001b[0;34m(\u001b[0m\u001b[0ma\u001b[0m\u001b[0;34m)\u001b[0m\u001b[0;34m\u001b[0m\u001b[0;34m\u001b[0m\u001b[0m\n\u001b[0m\u001b[1;32m     14\u001b[0m \u001b[0mf_ax\u001b[0m \u001b[0;34m=\u001b[0m \u001b[0mf_x\u001b[0m\u001b[0;34m(\u001b[0m\u001b[0ma\u001b[0m\u001b[0;34m)\u001b[0m\u001b[0;34m\u001b[0m\u001b[0;34m\u001b[0m\u001b[0m\n\u001b[1;32m     15\u001b[0m \u001b[0mp\u001b[0m \u001b[0;34m=\u001b[0m \u001b[0ma\u001b[0m \u001b[0;34m-\u001b[0m \u001b[0;34m(\u001b[0m\u001b[0mf_a\u001b[0m\u001b[0;34m/\u001b[0m\u001b[0mf_ax\u001b[0m\u001b[0;34m)\u001b[0m\u001b[0;34m\u001b[0m\u001b[0;34m\u001b[0m\u001b[0m\n",
      "\u001b[0;32m<ipython-input-105-f927b294459c>\u001b[0m in \u001b[0;36mf\u001b[0;34m(x)\u001b[0m\n\u001b[1;32m      4\u001b[0m \u001b[0;31m#funcion que vamos a evaluar (ya despejada)\u001b[0m\u001b[0;34m\u001b[0m\u001b[0;34m\u001b[0m\u001b[0;34m\u001b[0m\u001b[0m\n\u001b[1;32m      5\u001b[0m \u001b[0;32mdef\u001b[0m \u001b[0mf\u001b[0m\u001b[0;34m(\u001b[0m\u001b[0mx\u001b[0m\u001b[0;34m)\u001b[0m\u001b[0;34m:\u001b[0m\u001b[0;34m\u001b[0m\u001b[0;34m\u001b[0m\u001b[0m\n\u001b[0;32m----> 6\u001b[0;31m     \u001b[0;32mreturn\u001b[0m \u001b[0;36m7\u001b[0m\u001b[0;34m*\u001b[0m\u001b[0;34m(\u001b[0m\u001b[0mnp\u001b[0m\u001b[0;34m.\u001b[0m\u001b[0msin\u001b[0m\u001b[0;34m(\u001b[0m\u001b[0mx\u001b[0m\u001b[0;34m)\u001b[0m\u001b[0;34m*\u001b[0m\u001b[0me\u001b[0m\u001b[0;34m**\u001b[0m\u001b[0;34m-\u001b[0m\u001b[0;34m(\u001b[0m\u001b[0mx\u001b[0m\u001b[0;34m)\u001b[0m\u001b[0;34m)\u001b[0m\u001b[0;34m-\u001b[0m\u001b[0;36m1\u001b[0m\u001b[0;34m\u001b[0m\u001b[0;34m\u001b[0m\u001b[0m\n\u001b[0m\u001b[1;32m      7\u001b[0m     \u001b[0;31m#return x-np.cos(x);\u001b[0m\u001b[0;34m\u001b[0m\u001b[0;34m\u001b[0m\u001b[0;34m\u001b[0m\u001b[0m\n\u001b[1;32m      8\u001b[0m \u001b[0;34m\u001b[0m\u001b[0m\n",
      "\u001b[0;31mNameError\u001b[0m: name 'e' is not defined"
     ]
    }
   ],
   "source": [
    "#Ejercicio 2\n",
    "import numpy as np\n",
    "\n",
    "#funcion que vamos a evaluar (ya despejada)\n",
    "def f(x):\n",
    "    return 7*(np.sin(x)*e**-(x))-1\n",
    "    #return x-np.cos(x);\n",
    "\n",
    "def f_x(x):\n",
    "    return 7*(e**-(x))(np.cos(x)-np.sin(x))\n",
    "\n",
    "a = 0.5\n",
    "f_a = f(a)\n",
    "f_ax = f_x(a)\n",
    "p = a - (f_a/f_ax)\n",
    "\n",
    "\n",
    "def print_values(a, f_a, f_ax, p, error):\n",
    "    return '|  '+(\"+\" if a >= 0 else \"-\")+'  |  '+(\"+\" if f_a >= 0 else \"-\")+'  |  '+(\"+\" if f_ax >= 0 else \"-\")+'  |    '+(\"+\" if p >= 0 else \"-\")+'   |   '+str(error)\n",
    "\n",
    "num_iteraciones = 1\n",
    "numero_iteraciones = 3\n",
    "\n",
    "while numero_iteraciones > num_iteraciones:\n",
    "    print(print_values(a, b, p, f_a, f_b, f_p, error_item))\n"
   ]
  },
  {
   "cell_type": "code",
   "execution_count": 5,
   "metadata": {},
   "outputs": [
    {
     "name": "stdout",
     "output_type": "stream",
     "text": [
      "|  -  |  +  |  +  |    2.10403670914\n",
      "|  -  |  +  |  +  |    2.10403670914\n",
      "|  -  |  +  |  +  |    2.10403670914\n"
     ]
    }
   ],
   "source": [
    "#Ejercicio 2\n",
    "import numpy as np\n",
    "\n",
    "#funcion que vamos a evaluar (ya despejada)\n",
    "def f(x):\n",
    "    #return x**4 - 8*(x**3) - 35*(x**2) + 450*(x) - 1001\n",
    "    return np.cos(x)-x**3;\n",
    "\n",
    "\n",
    "def print_values(a, b, pn, error):\n",
    "    return '|  '+(\"+\" if a >= 0 else \"-\")+'  |  '+(\"+\" if b >= 0 else \"-\")+'  |  '+(\"+\" if pn >= 0 else \"-\")+'  |    '+str(error)\n",
    "\n",
    "#definición de valor iniciales\n",
    "a = -2\n",
    "#a = 0\n",
    "#b = 1\n",
    "b = 2\n",
    "f_a = f(a)\n",
    "f_b = f(b)\n",
    "pn = b + (f_b*(b-a))/(f_b-f_a)\n",
    "error_item = pn-b\n",
    "print(print_values(a, b, pn, error_item))\n",
    "\n",
    "#definicion de errores\n",
    "numero_iteraciones = 3\n",
    "num_iteraciones = 1\n",
    "\n",
    "while numero_iteraciones > num_iteraciones:\n",
    "    if f_a > 0:\n",
    "        f_a = f(a)\n",
    "        f_b = f(b)\n",
    "        pn = b + (f_b*(b-a))/(f_b-f_a)\n",
    "        error_item = pn-b\n",
    "        print(print_values(a, b, pn, error_item))\n",
    "    else:\n",
    "        f_a = f(a)\n",
    "        f_b = f(b)\n",
    "        pn = b + (f_b*(b-a))/(f_b-f_a)\n",
    "        error_item = pn-b\n",
    "        print(print_values(a, b, pn, error_item))\n",
    "    num_iteraciones += 1\n"
   ]
  },
  {
   "cell_type": "code",
   "execution_count": null,
   "metadata": {},
   "outputs": [],
   "source": []
  }
 ],
 "metadata": {
  "kernelspec": {
   "display_name": "Python 3",
   "language": "python",
   "name": "python3"
  },
  "language_info": {
   "codemirror_mode": {
    "name": "ipython",
    "version": 3
   },
   "file_extension": ".py",
   "mimetype": "text/x-python",
   "name": "python",
   "nbconvert_exporter": "python",
   "pygments_lexer": "ipython3",
   "version": "3.6.9"
  }
 },
 "nbformat": 4,
 "nbformat_minor": 2
}
